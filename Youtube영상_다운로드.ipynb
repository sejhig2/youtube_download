{
  "nbformat": 4,
  "nbformat_minor": 0,
  "metadata": {
    "colab": {
      "name": "Youtube영상 다운로드.ipynb",
      "private_outputs": true,
      "provenance": [],
      "authorship_tag": "ABX9TyOfFh91N/R710/FRPl59aar",
      "include_colab_link": true
    },
    "kernelspec": {
      "name": "python3",
      "display_name": "Python 3"
    },
    "language_info": {
      "name": "python"
    }
  },
  "cells": [
    {
      "cell_type": "markdown",
      "metadata": {
        "id": "view-in-github",
        "colab_type": "text"
      },
      "source": [
        "<a href=\"https://colab.research.google.com/github/sejhig2/youtube_download/blob/main/Youtube%EC%98%81%EC%83%81_%EB%8B%A4%EC%9A%B4%EB%A1%9C%EB%93%9C.ipynb\" target=\"_parent\"><img src=\"https://colab.research.google.com/assets/colab-badge.svg\" alt=\"Open In Colab\"/></a>"
      ]
    },
    {
      "cell_type": "code",
      "metadata": {
        "id": "iIaSJb2_Kp7h"
      },
      "source": [
        "!pip install pytube\n",
        "from pytube import YouTube"
      ],
      "execution_count": null,
      "outputs": []
    },
    {
      "cell_type": "code",
      "metadata": {
        "id": "1EqGxQsQKth_"
      },
      "source": [
        "url = input(\"Youtue 영상 url을 넣어주세요 >>>\")\n",
        "yt = YouTube(url)\n",
        "yt.streams.filter(progressive=True, file_extension=\"mp4\").order_by(\"resolution\")"
      ],
      "execution_count": null,
      "outputs": []
    },
    {
      "cell_type": "code",
      "metadata": {
        "id": "Cafl_0GqMX-0"
      },
      "source": [
        "tag_num = int(input(\"테그 번호 입력\"))\n",
        "stream = yt.streams.get_by_itag(tag_num)\n",
        "stream.download()"
      ],
      "execution_count": null,
      "outputs": []
    },
    {
      "cell_type": "markdown",
      "metadata": {
        "id": "iSZOPSL3K5jt"
      },
      "source": [
        ""
      ]
    }
  ]
}